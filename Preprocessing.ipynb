{
 "cells": [
  {
   "cell_type": "code",
   "execution_count": 1,
   "id": "a3c4ce64",
   "metadata": {},
   "outputs": [],
   "source": [
    "import pandas as pd\n",
    "import numpy as np\n",
    "import os"
   ]
  },
  {
   "cell_type": "code",
   "execution_count": 9,
   "id": "2a3a47e7",
   "metadata": {},
   "outputs": [],
   "source": [
    "DATASET_DIRECTORY = './'"
   ]
  },
  {
   "cell_type": "code",
   "execution_count": 16,
   "id": "168d0523",
   "metadata": {},
   "outputs": [],
   "source": [
    "df_sets = [k for k in os.listdir(DATASET_DIRECTORY) if k.endswith('.csv')]\n",
    "df_sets.sort()"
   ]
  },
  {
   "cell_type": "code",
   "execution_count": 17,
   "id": "5882f985",
   "metadata": {},
   "outputs": [],
   "source": [
    "df_frame = []\n",
    "\n",
    "for i in range(len(df_sets)):\n",
    "    df = pd.read_csv(DATASET_DIRECTORY + df_sets[i])\n",
    "    df_frame.append(df)"
   ]
  },
  {
   "cell_type": "code",
   "execution_count": 18,
   "id": "095073f6",
   "metadata": {},
   "outputs": [],
   "source": [
    "df_data = pd.concat(df_frame, axis=0, ignore_index=True)"
   ]
  },
  {
   "cell_type": "code",
   "execution_count": 19,
   "id": "6f224edd",
   "metadata": {},
   "outputs": [
    {
     "name": "stdout",
     "output_type": "stream",
     "text": [
      "<class 'pandas.core.frame.DataFrame'>\n",
      "RangeIndex: 46686579 entries, 0 to 46686578\n",
      "Data columns (total 47 columns):\n",
      " #   Column           Dtype  \n",
      "---  ------           -----  \n",
      " 0   flow_duration    float64\n",
      " 1   Header_Length    float64\n",
      " 2   Protocol Type    float64\n",
      " 3   Duration         float64\n",
      " 4   Rate             float64\n",
      " 5   Srate            float64\n",
      " 6   Drate            float64\n",
      " 7   fin_flag_number  float64\n",
      " 8   syn_flag_number  float64\n",
      " 9   rst_flag_number  float64\n",
      " 10  psh_flag_number  float64\n",
      " 11  ack_flag_number  float64\n",
      " 12  ece_flag_number  float64\n",
      " 13  cwr_flag_number  float64\n",
      " 14  ack_count        float64\n",
      " 15  syn_count        float64\n",
      " 16  fin_count        float64\n",
      " 17  urg_count        float64\n",
      " 18  rst_count        float64\n",
      " 19  HTTP             float64\n",
      " 20  HTTPS            float64\n",
      " 21  DNS              float64\n",
      " 22  Telnet           float64\n",
      " 23  SMTP             float64\n",
      " 24  SSH              float64\n",
      " 25  IRC              float64\n",
      " 26  TCP              float64\n",
      " 27  UDP              float64\n",
      " 28  DHCP             float64\n",
      " 29  ARP              float64\n",
      " 30  ICMP             float64\n",
      " 31  IPv              float64\n",
      " 32  LLC              float64\n",
      " 33  Tot sum          float64\n",
      " 34  Min              float64\n",
      " 35  Max              float64\n",
      " 36  AVG              float64\n",
      " 37  Std              float64\n",
      " 38  Tot size         float64\n",
      " 39  IAT              float64\n",
      " 40  Number           float64\n",
      " 41  Magnitue         float64\n",
      " 42  Radius           float64\n",
      " 43  Covariance       float64\n",
      " 44  Variance         float64\n",
      " 45  Weight           float64\n",
      " 46  label            object \n",
      "dtypes: float64(46), object(1)\n",
      "memory usage: 16.3+ GB\n"
     ]
    }
   ],
   "source": [
    "df_data.info()"
   ]
  },
  {
   "cell_type": "code",
   "execution_count": 20,
   "id": "aed89ef7",
   "metadata": {},
   "outputs": [
    {
     "data": {
      "text/plain": [
       "DDoS-ICMP_Flood            7200504\n",
       "DDoS-UDP_Flood             5412287\n",
       "DDoS-TCP_Flood             4497667\n",
       "DDoS-PSHACK_Flood          4094755\n",
       "DDoS-SYN_Flood             4059190\n",
       "DDoS-RSTFINFlood           4045285\n",
       "DDoS-SynonymousIP_Flood    3598138\n",
       "DoS-UDP_Flood              3318595\n",
       "DoS-TCP_Flood              2671445\n",
       "DoS-SYN_Flood              2028834\n",
       "BenignTraffic              1098195\n",
       "Mirai-greeth_flood          991866\n",
       "Mirai-udpplain              890576\n",
       "Mirai-greip_flood           751682\n",
       "DDoS-ICMP_Fragmentation     452489\n",
       "MITM-ArpSpoofing            307593\n",
       "DDoS-UDP_Fragmentation      286925\n",
       "DDoS-ACK_Fragmentation      285104\n",
       "DNS_Spoofing                178911\n",
       "Recon-HostDiscovery         134378\n",
       "Recon-OSScan                 98259\n",
       "Recon-PortScan               82284\n",
       "DoS-HTTP_Flood               71864\n",
       "VulnerabilityScan            37382\n",
       "DDoS-HTTP_Flood              28790\n",
       "DDoS-SlowLoris               23426\n",
       "DictionaryBruteForce         13064\n",
       "BrowserHijacking              5859\n",
       "CommandInjection              5409\n",
       "SqlInjection                  5245\n",
       "XSS                           3846\n",
       "Backdoor_Malware              3218\n",
       "Recon-PingSweep               2262\n",
       "Uploading_Attack              1252\n",
       "Name: label, dtype: int64"
      ]
     },
     "execution_count": 20,
     "metadata": {},
     "output_type": "execute_result"
    }
   ],
   "source": [
    "df_data['label'].value_counts()"
   ]
  },
  {
   "cell_type": "code",
   "execution_count": 22,
   "id": "036b5ab2",
   "metadata": {},
   "outputs": [
    {
     "data": {
      "text/plain": [
       "DDoS          33984560\n",
       "DoS            8090738\n",
       "Mirai          2634124\n",
       "Benign         1098195\n",
       "Spoofing        486504\n",
       "Recon           354565\n",
       "Web              24829\n",
       "BruteForce       13064\n",
       "Name: label, dtype: int64"
      ]
     },
     "execution_count": 22,
     "metadata": {},
     "output_type": "execute_result"
    }
   ],
   "source": [
    "remap_labels = {\n",
    "    'DDoS-RSTFINFlood': 'DDoS',\n",
    "    'DDoS-PSHACK_Flood': 'DDoS',\n",
    "    'DDoS-SYN_Flood': 'DDoS',\n",
    "    'DDoS-UDP_Flood': 'DDoS',\n",
    "    'DDoS-TCP_Flood': 'DDoS',\n",
    "    'DDoS-ICMP_Flood': 'DDoS',\n",
    "    'DDoS-SynonymousIP_Flood': 'DDoS',\n",
    "    'DDoS-ACK_Fragmentation': 'DDoS',\n",
    "    'DDoS-UDP_Fragmentation': 'DDoS',\n",
    "    'DDoS-ICMP_Fragmentation': 'DDoS',\n",
    "    'DDoS-SlowLoris': 'DDoS',\n",
    "    'DDoS-HTTP_Flood': 'DDoS',\n",
    "    'DoS-UDP_Flood': 'DoS',\n",
    "    'DoS-SYN_Flood': 'DoS',\n",
    "    'DoS-TCP_Flood': 'DoS',\n",
    "    'DoS-HTTP_Flood': 'DoS',\n",
    "    'Mirai-greeth_flood': 'Mirai',\n",
    "    'Mirai-greip_flood': 'Mirai',\n",
    "    'Mirai-udpplain': 'Mirai',\n",
    "    'Recon-PingSweep': 'Recon',\n",
    "    'Recon-OSScan': 'Recon',\n",
    "    'Recon-PortScan': 'Recon',\n",
    "    'VulnerabilityScan': 'Recon',\n",
    "    'Recon-HostDiscovery': 'Recon',\n",
    "    'DNS_Spoofing': 'Spoofing',\n",
    "    'MITM-ArpSpoofing': 'Spoofing',\n",
    "    'BenignTraffic': 'Benign',\n",
    "    'BrowserHijacking': 'Web',\n",
    "    'Backdoor_Malware': 'Web',\n",
    "    'XSS': 'Web',\n",
    "    'Uploading_Attack': 'Web',\n",
    "    'SqlInjection': 'Web',\n",
    "    'CommandInjection': 'Web',\n",
    "    'DictionaryBruteForce': 'BruteForce'\n",
    "}\n",
    "\n",
    "df_data['label'] = df_data['label'].apply(lambda x : remap_labels[x])\n",
    "\n",
    "df_data['label'].value_counts()"
   ]
  },
  {
   "cell_type": "code",
   "execution_count": 23,
   "id": "c9480bb0",
   "metadata": {},
   "outputs": [],
   "source": [
    "from sklearn.model_selection import train_test_split"
   ]
  },
  {
   "cell_type": "code",
   "execution_count": 24,
   "id": "f6794e23",
   "metadata": {},
   "outputs": [],
   "source": [
    "train, test = train_test_split(df_data, test_size=0.3, random_state=100)"
   ]
  },
  {
   "cell_type": "code",
   "execution_count": 25,
   "id": "ef1fd52b",
   "metadata": {},
   "outputs": [],
   "source": [
    "pd.DataFrame(train).to_csv(\"./train_CICIoT2023.csv\", index=False)\n",
    "pd.DataFrame(test).to_csv(\"./test_CICIoT2023.csv\", index=False)"
   ]
  },
  {
   "cell_type": "code",
   "execution_count": null,
   "id": "ddd80eda",
   "metadata": {},
   "outputs": [],
   "source": [
    "df_1 = pd.read_csv('/home/administrator/dataset/NBaIoT_1.csv')"
   ]
  },
  {
   "cell_type": "code",
   "execution_count": 2,
   "id": "f244b3b9",
   "metadata": {},
   "outputs": [],
   "source": [
    "chunksize = 1000\n",
    "list_of_dataframes = []\n",
    "\n",
    "for dfp in pd.read_csv('/home/administrator/dataset/CIC-IoT-2023/test_CICIoT2023.csv', chunksize=chunksize):\n",
    "    list_of_dataframes.append(dfp)\n",
    "\n",
    "df = pd.concat(list_of_dataframes)"
   ]
  },
  {
   "cell_type": "code",
   "execution_count": 4,
   "id": "bac14199",
   "metadata": {},
   "outputs": [
    {
     "data": {
      "text/plain": [
       "label\n",
       "DDoS          10197039\n",
       "DoS            2426635\n",
       "Mirai           790305\n",
       "Benign          328597\n",
       "Spoofing        145999\n",
       "Recon           105957\n",
       "Web               7462\n",
       "BruteForce        3980\n",
       "Name: count, dtype: int64"
      ]
     },
     "execution_count": 4,
     "metadata": {},
     "output_type": "execute_result"
    }
   ],
   "source": [
    "df['label'].value_counts()"
   ]
  },
  {
   "cell_type": "code",
   "execution_count": 5,
   "id": "d55d4569",
   "metadata": {},
   "outputs": [
    {
     "name": "stdout",
     "output_type": "stream",
     "text": [
      "The scikit-learn version is 1.3.2.\n"
     ]
    }
   ],
   "source": [
    "import sklearn\n",
    "print('The scikit-learn version is {}.'.format(sklearn.__version__))"
   ]
  },
  {
   "cell_type": "code",
   "execution_count": null,
   "id": "f0231934",
   "metadata": {},
   "outputs": [],
   "source": []
  }
 ],
 "metadata": {
  "kernelspec": {
   "display_name": "Python 3 (ipykernel)",
   "language": "python",
   "name": "python3"
  },
  "language_info": {
   "codemirror_mode": {
    "name": "ipython",
    "version": 3
   },
   "file_extension": ".py",
   "mimetype": "text/x-python",
   "name": "python",
   "nbconvert_exporter": "python",
   "pygments_lexer": "ipython3",
   "version": "3.10.12"
  }
 },
 "nbformat": 4,
 "nbformat_minor": 5
}
